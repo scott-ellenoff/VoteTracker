{
 "cells": [
  {
   "cell_type": "code",
   "execution_count": 16,
   "metadata": {},
   "outputs": [],
   "source": [
    "import os\n",
    "from PIL import Image\n",
    "import pandas as pd\n",
    "import pymysql\n",
    "import json\n",
    "from pprint import pprint\n",
    "import numpy as np\n",
    "import json"
   ]
  },
  {
   "cell_type": "code",
   "execution_count": 17,
   "metadata": {},
   "outputs": [],
   "source": [
    "host=\"votetrackr-db.cv1xcgegsskz.us-east-2.rds.amazonaws.com\"\n",
    "port=3306\n",
    "dbname=\"deploy_db\"\n",
    "user=\"VoteTrackrMaster\"\n",
    "password=\"VotePass\"\n",
    "conn = pymysql.connect(host, user=user,port=port, passwd=password, db=dbname)\n",
    "cursor = conn.cursor()     # get the cursor\n",
    "cursor.execute(\"USE deploy_db\") # select the \n",
    "Bill = pd.read_sql('select * from Bills', con=conn)"
   ]
  },
  {
   "cell_type": "code",
   "execution_count": 25,
   "metadata": {},
   "outputs": [],
   "source": [
    "for root, dirs, files in os.walk(\"../d3_proj/maps_png\"):\n",
    "    for name in files:\n",
    "        #print(os.path.join(root, name))\n",
    "        path = os.path.join(root, name)\n",
    "        img = Image.open(path)\n",
    "        cropped = img.crop((0, 100, 1500, 800))\n",
    "        if(name[1]=='-'):\n",
    "            title = name[0]\n",
    "        else:\n",
    "            title = name[0]+name[1]\n",
    "        filename = Bill.loc[int(title)]['BID']\n",
    "        save_path = \"../d3_proj/maps_png/\"+filename+'.png'\n",
    "        cropped.save(save_path)"
   ]
  },
  {
   "cell_type": "code",
   "execution_count": null,
   "metadata": {},
   "outputs": [],
   "source": []
  }
 ],
 "metadata": {
  "kernelspec": {
   "display_name": "Python 3",
   "language": "python",
   "name": "python3"
  },
  "language_info": {
   "codemirror_mode": {
    "name": "ipython",
    "version": 3
   },
   "file_extension": ".py",
   "mimetype": "text/x-python",
   "name": "python",
   "nbconvert_exporter": "python",
   "pygments_lexer": "ipython3",
   "version": "3.6.5"
  }
 },
 "nbformat": 4,
 "nbformat_minor": 2
}
